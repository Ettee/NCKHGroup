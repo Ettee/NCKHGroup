{
 "cells": [
  {
   "cell_type": "markdown",
   "metadata": {},
   "source": [
    "# PYTHON DICTIONARIES\n",
    "\n",
    "Định nghĩa: \n",
    "\n",
    "Dictionary(Dict): từ điển là một tập hợp không có thứ tự, có thể thay đổi và lập chỉ mục(index).\n",
    "\n",
    "     Được giới hạn bởi cặp ngoặc nhọn {}, tất cả những gì nằm trong đó là những phần tử của Dict."
   ]
  },
  {
   "cell_type": "code",
   "execution_count": 1,
   "metadata": {},
   "outputs": [
    {
     "name": "stdout",
     "output_type": "stream",
     "text": [
      "{}\n"
     ]
    }
   ],
   "source": [
    "dic ={}\n",
    "print(dic)"
   ]
  },
  {
   "cell_type": "markdown",
   "metadata": {},
   "source": [
    "     Các phần tử của Dict được phân cách nhau ra bởi dấu phẩy (,).\n",
    "     Các phần tử của Dict phải là một cặp key-value\n",
    "     Cặp key-value của phần tử trong Dict được phân cách bởi dấu hai chấm (:)\n",
    "Cú pháp: \n",
    "        **{<key_1: value_1>, <key_2: value_2>, .., <key_n: value_n>}**"
   ]
  },
  {
   "cell_type": "code",
   "execution_count": 2,
   "metadata": {},
   "outputs": [
    {
     "name": "stdout",
     "output_type": "stream",
     "text": [
      "{'name': 'SonTung', 'country': 'Vietnam', 'year': 1964}\n"
     ]
    }
   ],
   "source": [
    "dic = { \"name\": \"SonTung\", \"country\": \"Vietnam\", \"year\": 1964 }\n",
    "print(dic)"
   ]
  },
  {
   "cell_type": "markdown",
   "metadata": {},
   "source": [
    "### CÁC THAO TÁC VỚI DICTIONARY\n",
    "\n",
    "**1.Lấy ra phần tử của Dict(Accessing Items)**"
   ]
  },
  {
   "cell_type": "code",
   "execution_count": 6,
   "metadata": {},
   "outputs": [
    {
     "name": "stdout",
     "output_type": "stream",
     "text": [
      "Vietnam\n"
     ]
    }
   ],
   "source": [
    "dic = {\"name\": \"SonTung\",\n",
    "       \"country\": \"Vietnam\",\n",
    "       \"year\": 1964}\n",
    "x = dic[\"country\"]#key gọi ra nằm trong dấu ngoặc vuông\n",
    "print(x)"
   ]
  },
  {
   "cell_type": "markdown",
   "metadata": {},
   "source": [
    "**2.Ngoài ra, còn có một phương thức get() cho ra kết quả tương tự:**"
   ]
  },
  {
   "cell_type": "code",
   "execution_count": 4,
   "metadata": {},
   "outputs": [
    {
     "name": "stdout",
     "output_type": "stream",
     "text": [
      "Vietnam\n"
     ]
    }
   ],
   "source": [
    "dic = {\"name\": \"SonTung\",\"country\": \"Vietnam\",\"year\": 1964}\n",
    "x = dic.get(\"country\")\n",
    "print(x)"
   ]
  },
  {
   "cell_type": "markdown",
   "metadata": {},
   "source": [
    "**3.Thay đổi giá trị (Change Values)**\n",
    "\n",
    "       *Bạn có thể thay đổi giá trị của một khóa cụ thể bằng cách tham chiếu tên KEY của nó*  "
   ]
  },
  {
   "cell_type": "code",
   "execution_count": 5,
   "metadata": {},
   "outputs": [
    {
     "name": "stdout",
     "output_type": "stream",
     "text": [
      "{'name': 'SonTung', 'country': 'Vietnam', 'year': 2019}\n"
     ]
    }
   ],
   "source": [
    "dic = {\"name\": \"SonTung\", \n",
    "       \"country\": \"Vietnam\",\n",
    "       \"year\": 1964}\n",
    "dic[\"year\"] = 2019 #thay đổi giá trị của \"year\" từ 1964 thành 2019\n",
    "print(dic)"
   ]
  },
  {
   "cell_type": "markdown",
   "metadata": {},
   "source": [
    "**4.Truy xuất bằng vòng lặp**\n",
    "    \n",
    "    Bạn có thể truy xuất từ điển bằng cách sử dụng vòng lặp for.\n",
    "    \n",
    "    Khi lặp qua từ điển, giá trị trả về là các khóa của từ điển, nhưng cũng có các phương thức khác để trả về các giá trị."
   ]
  },
  {
   "cell_type": "code",
   "execution_count": 8,
   "metadata": {},
   "outputs": [
    {
     "name": "stdout",
     "output_type": "stream",
     "text": [
      "name\n",
      "country\n",
      "year\n"
     ]
    }
   ],
   "source": [
    "dic = {\"name\": \"SonTung\", \n",
    "       \"country\": \"Vietnam\",\n",
    "       \"year\": 1964}\n",
    "for x in dic: #x là biến chạy và chạy từ đầu đến cuối từ điển và tham chiếu đến khóa(KEY) của từ điển\n",
    "  print(x) #in ra giá trị của x và cũng là các tên khóa(key name)\n"
   ]
  },
  {
   "cell_type": "markdown",
   "metadata": {},
   "source": [
    "    In tất cả các giá trị trong từ điển, từng cái một"
   ]
  },
  {
   "cell_type": "code",
   "execution_count": 10,
   "metadata": {},
   "outputs": [
    {
     "name": "stdout",
     "output_type": "stream",
     "text": [
      "SonTung\n",
      "Vietnam\n",
      "1964\n"
     ]
    }
   ],
   "source": [
    "dic = {\"name\": \"SonTung\", \n",
    "       \"country\": \"Vietnam\",\n",
    "       \"year\": 1964}\n",
    "for x in dic: #x là biến chạy và chạy từ đầu đến cuối từ điển và tham chiếu đến khóa(KEY) của từ điển\n",
    "  print(dic[x]) #in ra giá trị của từ điển tương ứng với khóa(KEY) x của từ điển"
   ]
  },
  {
   "cell_type": "markdown",
   "metadata": {},
   "source": [
    "Ngoài ra, có thể sử dụng hàm *values()* để trả về giá trị của từ điển"
   ]
  },
  {
   "cell_type": "code",
   "execution_count": 11,
   "metadata": {},
   "outputs": [
    {
     "name": "stdout",
     "output_type": "stream",
     "text": [
      "SonTung\n",
      "Vietnam\n",
      "1964\n"
     ]
    }
   ],
   "source": [
    "dic = {\"name\": \"SonTung\", \n",
    "       \"country\": \"Vietnam\",\n",
    "       \"year\": 1964}\n",
    "for x in dic.values():#x là biến chạy và chạy từ đầu đến cuối từ điển và tham chiếu đến giá trị(VALUE) của từ điển\n",
    "  print(x) #in ra giá trị của x và cũng là các giá trị(values)\n"
   ]
  },
  {
   "cell_type": "markdown",
   "metadata": {},
   "source": [
    "    Lặp qua cả khóa và giá trị, bằng cách sử dụng hàm items()"
   ]
  },
  {
   "cell_type": "code",
   "execution_count": 12,
   "metadata": {},
   "outputs": [
    {
     "name": "stdout",
     "output_type": "stream",
     "text": [
      "name SonTung\n",
      "country Vietnam\n",
      "year 1964\n"
     ]
    }
   ],
   "source": [
    "dic = {\"name\": \"SonTung\", \n",
    "       \"country\": \"Vietnam\",\n",
    "       \"year\": 1964}\n",
    "for x, y in dic.items():#x tham chiếu đến KEY, y tham chiếu đến VALUE\n",
    "  print(x, y)"
   ]
  },
  {
   "cell_type": "markdown",
   "metadata": {},
   "source": [
    "**5.Kiểm tra sự tồn tại của KHÓA (KEY)**\n",
    "\n",
    "        Ví dụ: Kiểm tra sự tồn tại của khóa \"country\" trong từ điển"
   ]
  },
  {
   "cell_type": "code",
   "execution_count": 13,
   "metadata": {},
   "outputs": [
    {
     "name": "stdout",
     "output_type": "stream",
     "text": [
      "Đã tim thấy 'country' trong từ điển \n"
     ]
    }
   ],
   "source": [
    "dic = {\"name\": \"SonTung\", \n",
    "       \"country\": \"Vietnam\",\n",
    "       \"year\": 1964}\n",
    "if \"country\" in dic: #điều kiện\n",
    "    print(\"Đã tim thấy 'country' trong từ điển \")"
   ]
  },
  {
   "cell_type": "markdown",
   "metadata": {},
   "source": [
    "**6.Độ dài của từ điển**\n",
    "\n",
    "        Độ dài của từ điển là số cặp key-value tồn tại trong từ điển\n",
    "        Để xác định độ dài, sử dụng len()"
   ]
  },
  {
   "cell_type": "code",
   "execution_count": 14,
   "metadata": {},
   "outputs": [
    {
     "name": "stdout",
     "output_type": "stream",
     "text": [
      "3\n"
     ]
    }
   ],
   "source": [
    "dic = {\"name\": \"SonTung\", \n",
    "       \"country\": \"Vietnam\",\n",
    "       \"year\": 1964}\n",
    "print(len(dic)) #in độ dài"
   ]
  },
  {
   "cell_type": "markdown",
   "metadata": {},
   "source": [
    "**7.Thêm mục vào từ điển**\n",
    "\n",
    "Cú pháp:\n",
    "         **Variable_name [Key] = Value**"
   ]
  },
  {
   "cell_type": "code",
   "execution_count": 17,
   "metadata": {},
   "outputs": [
    {
     "name": "stdout",
     "output_type": "stream",
     "text": [
      "{'name': 'SonTung', 'country': 'Vietnam', 'year': 1964, 'color': 'black'}\n"
     ]
    }
   ],
   "source": [
    "dic = {\"name\": \"SonTung\", \n",
    "       \"country\": \"Vietnam\",\n",
    "       \"year\": 1964}\n",
    "dic[\"color\"] = \"black\" \n",
    "print(dic)"
   ]
  },
  {
   "cell_type": "markdown",
   "metadata": {},
   "source": [
    "**8.Xóa các mục trong từ điển**\n",
    "\n",
    "#### Một số phương pháp xóa:\n",
    "       \n",
    "**pop()**: xóa với tên khóa "
   ]
  },
  {
   "cell_type": "code",
   "execution_count": 18,
   "metadata": {},
   "outputs": [
    {
     "name": "stdout",
     "output_type": "stream",
     "text": [
      "{'country': 'Vietnam', 'year': 1964}\n"
     ]
    }
   ],
   "source": [
    "# ví dụ xóa mục có khóa \"name\"\n",
    "dic = {\"name\": \"SonTung\", \n",
    "       \"country\": \"Vietnam\",\n",
    "       \"year\": 1964}  \n",
    "dic.pop(\"name\")\n",
    "print(dic)\n",
    "\n"
   ]
  },
  {
   "cell_type": "markdown",
   "metadata": {},
   "source": [
    "        popitem(): xóa mục nằm cuối cùng trong từ điển"
   ]
  },
  {
   "cell_type": "code",
   "execution_count": 19,
   "metadata": {},
   "outputs": [
    {
     "name": "stdout",
     "output_type": "stream",
     "text": [
      "{'name': 'SonTung', 'country': 'Vietnam'}\n"
     ]
    }
   ],
   "source": [
    "dic = {\"name\": \"SonTung\", \n",
    "       \"country\": \"Vietnam\",\n",
    "       \"year\": 1964}  \n",
    "dic.popitem()\n",
    "print(dic)"
   ]
  },
  {
   "cell_type": "markdown",
   "metadata": {},
   "source": [
    "**del:** xóa mục với tên khóa được chỉ định  "
   ]
  },
  {
   "cell_type": "code",
   "execution_count": 20,
   "metadata": {},
   "outputs": [
    {
     "name": "stdout",
     "output_type": "stream",
     "text": [
      "{'name': 'SonTung', 'country': 'Vietnam'}\n"
     ]
    }
   ],
   "source": [
    "dic = {\"name\": \"SonTung\", \n",
    "       \"country\": \"Vietnam\",\n",
    "       \"year\": 1964}  \n",
    "del dic[\"year\"]\n",
    "print(dic)"
   ]
  },
  {
   "cell_type": "markdown",
   "metadata": {},
   "source": [
    "**Lưu ý: del cũng có thể xóa toàn bộ từ điển**"
   ]
  },
  {
   "cell_type": "code",
   "execution_count": 21,
   "metadata": {},
   "outputs": [
    {
     "ename": "NameError",
     "evalue": "name 'dic' is not defined",
     "output_type": "error",
     "traceback": [
      "\u001b[1;31m---------------------------------------------------------------------------\u001b[0m",
      "\u001b[1;31mNameError\u001b[0m                                 Traceback (most recent call last)",
      "\u001b[1;32m<ipython-input-21-1d00d69940c2>\u001b[0m in \u001b[0;36m<module>\u001b[1;34m\u001b[0m\n\u001b[0;32m      3\u001b[0m        \"year\": 1964}  \n\u001b[0;32m      4\u001b[0m \u001b[1;32mdel\u001b[0m \u001b[0mdic\u001b[0m\u001b[1;33m\u001b[0m\u001b[1;33m\u001b[0m\u001b[0m\n\u001b[1;32m----> 5\u001b[1;33m \u001b[0mprint\u001b[0m\u001b[1;33m(\u001b[0m\u001b[0mdic\u001b[0m\u001b[1;33m)\u001b[0m \u001b[1;31m#sẽ bị lỗi vì \"dic\" không còn tồn tại\u001b[0m\u001b[1;33m\u001b[0m\u001b[1;33m\u001b[0m\u001b[0m\n\u001b[0m",
      "\u001b[1;31mNameError\u001b[0m: name 'dic' is not defined"
     ]
    }
   ],
   "source": [
    "dic = {\"name\": \"SonTung\", \n",
    "       \"country\": \"Vietnam\",\n",
    "       \"year\": 1964}  \n",
    "del dic\n",
    "print(dic) #sẽ bị lỗi vì \"dic\" không còn tồn tại"
   ]
  },
  {
   "cell_type": "markdown",
   "metadata": {},
   "source": [
    "**clear():** làm trống từ điển"
   ]
  },
  {
   "cell_type": "code",
   "execution_count": 22,
   "metadata": {},
   "outputs": [
    {
     "name": "stdout",
     "output_type": "stream",
     "text": [
      "{}\n"
     ]
    }
   ],
   "source": [
    "dic = {\"name\": \"SonTung\", \n",
    "       \"country\": \"Vietnam\",\n",
    "       \"year\": 1964}  \n",
    "dic.clear()\n",
    "print(dic)"
   ]
  },
  {
   "cell_type": "markdown",
   "metadata": {},
   "source": [
    "**dict():** là hàm để tạo từ điển"
   ]
  },
  {
   "cell_type": "code",
   "execution_count": 23,
   "metadata": {},
   "outputs": [
    {
     "name": "stdout",
     "output_type": "stream",
     "text": [
      "{'name': 'SonTung', 'country': 'Vietnam', 'year': 1964}\n"
     ]
    }
   ],
   "source": [
    "dic = dict(name = \"SonTung\", \n",
    "       country= \"Vietnam\",\n",
    "       year = 1964)\n",
    "# key không phải là chuỗi ký tự nên không chứa trong cặp dấu ngoặc kép \"\"\n",
    "# giữa KEY và VALUE là dấu bằng thay vì dấu hai chấm\n",
    "print(dic)"
   ]
  },
  {
   "cell_type": "markdown",
   "metadata": {},
   "source": [
    "**fromkeys():** trả về một từ điển với các khóa và giá trị được chỉ định."
   ]
  },
  {
   "cell_type": "code",
   "execution_count": 24,
   "metadata": {},
   "outputs": [
    {
     "name": "stdout",
     "output_type": "stream",
     "text": [
      "{'key1': 0, 'key2': 0, 'key3': 0}\n"
     ]
    }
   ],
   "source": [
    "x = ('key1', 'key2', 'key3')\n",
    "y = 0\n",
    "\n",
    "dic = dict.fromkeys(x, y)\n",
    "\n",
    "print(dic)"
   ]
  },
  {
   "cell_type": "markdown",
   "metadata": {},
   "source": [
    "        Tương tự như trên, nhưng không chỉ định giá trị cho từ điển, giá trị mặc định là None"
   ]
  },
  {
   "cell_type": "code",
   "execution_count": 25,
   "metadata": {},
   "outputs": [
    {
     "name": "stdout",
     "output_type": "stream",
     "text": [
      "{'key1': None, 'key2': None, 'key3': None}\n"
     ]
    }
   ],
   "source": [
    "x = ('key1', 'key2', 'key3')\n",
    "\n",
    "thisdict = dict.fromkeys(x)\n",
    "\n",
    "print(thisdict)"
   ]
  },
  {
   "cell_type": "markdown",
   "metadata": {},
   "source": [
    "**setdefault():** Trả về giá trị của mục với khóa được chỉ định.\n",
    "\n",
    "           Nếu khóa không tồn tại, hãy chèn khóa, với giá trị được chỉ định"
   ]
  },
  {
   "cell_type": "code",
   "execution_count": 26,
   "metadata": {},
   "outputs": [
    {
     "name": "stdout",
     "output_type": "stream",
     "text": [
      "SonTung\n"
     ]
    }
   ],
   "source": [
    "#Trường hợp 1:key tồn tại\n",
    "dic = {\"name\": \"SonTung\", \n",
    "       \"country\": \"Vietnam\",\n",
    "       \"year\": 1964}\n",
    "x = dic.setdefault(\"name\", \"White\") #name tồn tại nên While không có hiệu lực\n",
    "print(x)\n"
   ]
  },
  {
   "cell_type": "code",
   "execution_count": 27,
   "metadata": {},
   "outputs": [
    {
     "name": "stdout",
     "output_type": "stream",
     "text": [
      "White\n",
      "{'name': 'SonTung', 'country': 'Vietnam', 'year': 1964, 'color': 'White'}\n"
     ]
    }
   ],
   "source": [
    "#Trường hợp 2:key không tồn tại\n",
    "dic = {\"name\": \"SonTung\", \n",
    "       \"country\": \"Vietnam\",\n",
    "       \"year\": 1964}\n",
    "x = dic.setdefault(\"color\", \"White\") #color không tồn tại nên While sẽ là giá trị của khóa color\n",
    "print(x)\n",
    "print(dic)"
   ]
  },
  {
   "cell_type": "markdown",
   "metadata": {},
   "source": [
    "**items():** hiển thị các đối tượng để người dùng quyết định sửa đổi thông tin gì hay không"
   ]
  },
  {
   "cell_type": "code",
   "execution_count": 1,
   "metadata": {},
   "outputs": [
    {
     "name": "stdout",
     "output_type": "stream",
     "text": [
      "dict_items([('name', 'SonTung'), ('country', 'Vietnam'), ('year', 1964)])\n"
     ]
    }
   ],
   "source": [
    "\n",
    "dic = {\"name\": \"SonTung\", \n",
    "       \"country\": \"Vietnam\",\n",
    "       \"year\": 1964}\n",
    "x = dic.items()\n",
    "\n",
    "print(x)"
   ]
  },
  {
   "cell_type": "code",
   "execution_count": 29,
   "metadata": {},
   "outputs": [
    {
     "name": "stdout",
     "output_type": "stream",
     "text": [
      "dict_items([('name', 'SonTung'), ('country', 'Vietnam'), ('year', 2019)])\n"
     ]
    }
   ],
   "source": [
    "#Sau khi xem và người dùng muốn chỉnh sửa giá trị trong từ điển\n",
    "dic = {\"name\": \"SonTung\", \n",
    "       \"country\": \"Vietnam\",\n",
    "       \"year\": 1964}\n",
    "x = dic.items()\n",
    "dic[\"year\"] = 2019\n",
    "print(x)"
   ]
  },
  {
   "cell_type": "markdown",
   "metadata": {},
   "source": [
    "**copy():** trả về bản sao của từ điển đã chọn"
   ]
  },
  {
   "cell_type": "code",
   "execution_count": 30,
   "metadata": {},
   "outputs": [
    {
     "name": "stdout",
     "output_type": "stream",
     "text": [
      "{'name': 'SonTung', 'country': 'Vietnam', 'year': 1964}\n"
     ]
    }
   ],
   "source": [
    "dic = {\"name\": \"SonTung\", \n",
    "       \"country\": \"Vietnam\",\n",
    "       \"year\": 1964}\n",
    "x = dic.copy()\n",
    "\n",
    "print(x)"
   ]
  },
  {
   "cell_type": "markdown",
   "metadata": {},
   "source": [
    "**keys():** trả về các đối tượng là các khóa. Người dùng sẽ phản ánh bất cứ thay đổi nào "
   ]
  },
  {
   "cell_type": "code",
   "execution_count": 31,
   "metadata": {},
   "outputs": [
    {
     "name": "stdout",
     "output_type": "stream",
     "text": [
      "dict_keys(['name', 'country', 'year'])\n"
     ]
    }
   ],
   "source": [
    "dic = {\"name\": \"SonTung\", \n",
    "       \"country\": \"Vietnam\",\n",
    "       \"year\": 1964}\n",
    "x = dic.keys()\n",
    "print(x)"
   ]
  },
  {
   "cell_type": "markdown",
   "metadata": {},
   "source": [
    "**values():** trả về danh sách các giá trị của từ điển"
   ]
  },
  {
   "cell_type": "code",
   "execution_count": 32,
   "metadata": {},
   "outputs": [
    {
     "name": "stdout",
     "output_type": "stream",
     "text": [
      "dict_values(['SonTung', 'Vietnam', 1964])\n"
     ]
    }
   ],
   "source": [
    "dic = {\"name\": \"SonTung\", \n",
    "       \"country\": \"Vietnam\",\n",
    "       \"year\": 1964}\n",
    "x=dic.values()\n",
    "print(x)"
   ]
  },
  {
   "cell_type": "markdown",
   "metadata": {},
   "source": [
    "**update():** Chèn các mục đã chỉ định vào từ điển\n",
    "           \n",
    "        Các mục được chỉ định có thể là một từ điển hoặc một đối tượng lặp lại."
   ]
  },
  {
   "cell_type": "code",
   "execution_count": 34,
   "metadata": {},
   "outputs": [
    {
     "name": "stdout",
     "output_type": "stream",
     "text": [
      "{'name': 'SonTung', 'country': 'Vietnam', 'year': 1964, 'color': 'White'}\n"
     ]
    }
   ],
   "source": [
    "dic = {\"name\": \"SonTung\", \n",
    "       \"country\": \"Vietnam\",\n",
    "       \"year\": 1964}\n",
    "dic.update({\"color\": \"White\"})\n",
    "print(dic)"
   ]
  }
 ],
 "metadata": {
  "kernelspec": {
   "display_name": "Python 3",
   "language": "python",
   "name": "python3"
  },
  "language_info": {
   "codemirror_mode": {
    "name": "ipython",
    "version": 3
   },
   "file_extension": ".py",
   "mimetype": "text/x-python",
   "name": "python",
   "nbconvert_exporter": "python",
   "pygments_lexer": "ipython3",
   "version": "3.7.1"
  }
 },
 "nbformat": 4,
 "nbformat_minor": 2
}
