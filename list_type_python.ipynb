{
 "cells": [
  {
   "cell_type": "markdown",
   "metadata": {},
   "source": [
    "ĐỊNH NGHĨA LIST:\n",
    "- List là 1 Contener (cho phép t lưu trữ 1 giá trị nào đó, có khả năng thay đổi, sửa khi cần, còn có tên gọi khác là “Biến”), được sử dụng nhiều trong Python."
   ]
  },
  {
   "cell_type": "markdown",
   "metadata": {},
   "source": [
    "- List được giới hạn bởi 1 cặp ngoặc vuông []:"
   ]
  },
  {
   "cell_type": "code",
   "execution_count": 1,
   "metadata": {},
   "outputs": [
    {
     "name": "stdout",
     "output_type": "stream",
     "text": [
      "[]\n"
     ]
    }
   ],
   "source": [
    "#a là một list rỗng\n",
    "a = []\n",
    "print(a)"
   ]
  },
  {
   "cell_type": "markdown",
   "metadata": {},
   "source": [
    "- Các phần tử của list cách nhau bởi đấu phẩy:"
   ]
  },
  {
   "cell_type": "code",
   "execution_count": 2,
   "metadata": {},
   "outputs": [
    {
     "name": "stdout",
     "output_type": "stream",
     "text": [
      "[1, 2, 3, 4, 5]\n"
     ]
    }
   ],
   "source": [
    "a = [1, 2, 3, 4, 5]\n",
    "print(a)"
   ]
  },
  {
   "cell_type": "markdown",
   "metadata": {},
   "source": [
    "- List có khả năng chứa mọi kiểu dữ liệu của python và bao gồm cả chính nó:"
   ]
  },
  {
   "cell_type": "code",
   "execution_count": 3,
   "metadata": {},
   "outputs": [
    {
     "name": "stdout",
     "output_type": "stream",
     "text": [
      "[1, 0, 'hello', 'OU', ['python', [8, 4, 9, 2]]]\n"
     ]
    }
   ],
   "source": [
    "a = [1, 0, \"hello\", \"OU\", [\"python\", [8, 4, 9 ,2]]]\n",
    "print(a)"
   ]
  },
  {
   "cell_type": "markdown",
   "metadata": {},
   "source": [
    "List Comprehension: là một cách khởi tạo list, theo đó ta có thể tạo list mà không càn nhập giá trị vào list mà chỉ cần đặt vào list 1 dòng lặp: "
   ]
  },
  {
   "cell_type": "code",
   "execution_count": 5,
   "metadata": {},
   "outputs": [
    {
     "name": "stdout",
     "output_type": "stream",
     "text": [
      "[0, 1, 2, 3, 4, 5, 6, 7, 8, 9]\n",
      "[[0], [3], [6], [9], [12], [15], [18], [21], [24], [27]]\n"
     ]
    }
   ],
   "source": [
    "a = [x for x in range (0,10)]\n",
    "print(a)\n",
    "\n",
    "# hoặc\n",
    "\n",
    "a = [[x*3] for x in range (0,10)]\n",
    "print(a)"
   ]
  },
  {
   "cell_type": "markdown",
   "metadata": {},
   "source": [
    "Một số toán tử của list:\n",
    "- toán tử cộng\n",
    "- toán tử \"in\"\n",
    "- toán tử nhân\n",
    "*lưu ý: toán tử nhân thường chỉ có thể nhân với 1 số nguyên để lặp các list nhỏ có giá trị bằng list ban đầu thành 1 list lớn chứa các list đó."
   ]
  },
  {
   "cell_type": "code",
   "execution_count": 7,
   "metadata": {},
   "outputs": [
    {
     "name": "stdout",
     "output_type": "stream",
     "text": [
      "[1, 2, 3, 4, 5, 6]\n",
      "True\n",
      "[[1, 2, 3], [1, 2, 3], [1, 2, 3]]\n"
     ]
    }
   ],
   "source": [
    "a = [1, 2, 3]\n",
    "a = a + [4, 5, 6] #a += [4, 5, 6]\n",
    "print(a)\n",
    "\n",
    "a = [\"a\", \"b\", \"c\"]\n",
    "b = \"a\" in a\n",
    "print(b)\n",
    "\n",
    "a = [[1, 2, 3]]\n",
    "a *=3\n",
    "print(a)"
   ]
  },
  {
   "cell_type": "markdown",
   "metadata": {},
   "source": [
    "truy xuất phần tử của list: việc truy xuất phần tử của list khá giống với mãng."
   ]
  },
  {
   "cell_type": "code",
   "execution_count": 13,
   "metadata": {},
   "outputs": [
    {
     "name": "stdout",
     "output_type": "stream",
     "text": [
      "1\n",
      "3\n",
      "c\n",
      "[8, 10]\n",
      "10\n",
      "[1, 3, 5, [8, 10], 'a']\n",
      "[3, [8, 10], 'b']\n"
     ]
    }
   ],
   "source": [
    "a = [1, 3, 5, [8, 10], \"a\", \"b\", \"c\"]\n",
    "print(a[0])\n",
    "print(a[1])\n",
    "print(a[-1])\n",
    "print(a[3])\n",
    "print(a[3][1])\n",
    "print(a[:5]) #in ra từ 0->a[4]\n",
    "print(a[1:6:2]) #in ra các phần tử từ phần tử thứ a[1] đến phần tử a[5] với số bước nhảy là 2 bước"
   ]
  },
  {
   "cell_type": "markdown",
   "metadata": {},
   "source": [
    "Thay đổi nội dung trong list:"
   ]
  },
  {
   "cell_type": "code",
   "execution_count": 14,
   "metadata": {
    "scrolled": true
   },
   "outputs": [
    {
     "name": "stdout",
     "output_type": "stream",
     "text": [
      "[1, 'team', 5, [8, 10], 'a', 'b', 'c']\n",
      "[1, 'team', 5, [8, 'team'], 'a', 'b', 'c']\n"
     ]
    }
   ],
   "source": [
    "a = [1, 3, 5, [8, 10], \"a\", \"b\", \"c\"]\n",
    "a[1] = \"team\"\n",
    "print(a)\n",
    "a[3][1] = \"team\"\n",
    "print(a)"
   ]
  },
  {
   "cell_type": "markdown",
   "metadata": {},
   "source": [
    "Lưu ý: list là kiểu tham chiếu, nên khi gán 1 list này cho 1 list khác và nếu thay đổi giá trị của list gán thì sẽ làm thay đổi giá trị của list bị gán."
   ]
  },
  {
   "cell_type": "code",
   "execution_count": 15,
   "metadata": {},
   "outputs": [
    {
     "name": "stdout",
     "output_type": "stream",
     "text": [
      "[1, 3, 5, [8, 10], 'a', 'b', 'c']\n",
      "[1, 3, 5, [8, 10], 'a', 'b', 'c']\n",
      "[1, 'team', 5, [8, 10], 'a', 'b', 'c']\n",
      "[1, 'team', 5, [8, 10], 'a', 'b', 'c']\n"
     ]
    }
   ],
   "source": [
    "a = [1, 3, 5, [8, 10], \"a\", \"b\", \"c\"]\n",
    "b = a\n",
    "print(a)\n",
    "print(b)\n",
    "b[1] = \"team\"\n",
    "print(a)\n",
    "print(b)"
   ]
  },
  {
   "cell_type": "markdown",
   "metadata": {},
   "source": [
    "CÁC PHƯƠNG THỨC CỦA LIST:\n",
    "- Các phương thức tiện ích\n",
    "- Các phương thức cập nhật\n",
    "- Các phương thức xử lí"
   ]
  },
  {
   "cell_type": "markdown",
   "metadata": {},
   "source": [
    "- Các phương thức tiện ích:"
   ]
  },
  {
   "cell_type": "markdown",
   "metadata": {},
   "source": [
    "    - Phương thức count: đếm số lần xuất hiện của một đối tượng, trả về một số nguyên."
   ]
  },
  {
   "cell_type": "code",
   "execution_count": 3,
   "metadata": {},
   "outputs": [
    {
     "name": "stdout",
     "output_type": "stream",
     "text": [
      "1\n",
      "3\n",
      "0\n",
      "2\n"
     ]
    }
   ],
   "source": [
    "a = [2, 2, 1, 2, 3, [2, 3], \"hello\", \"hello\"]\n",
    "c = a.count(3)\n",
    "print(c)\n",
    "c = a.count(2)\n",
    "print(c)\n",
    "c = a.count(10)\n",
    "print(c)\n",
    "c= a.count(\"hello\")\n",
    "print(c)"
   ]
  },
  {
   "cell_type": "markdown",
   "metadata": {},
   "source": [
    "    - Phương thức index: cho phép tìm ra vị trí xuất hiện lần đầu tiên của một đối tượng, trả về một số nguyên là vị trí của đối tượng đó, nếu ko tìm được sẽ trả về lỗi "
   ]
  },
  {
   "cell_type": "code",
   "execution_count": 5,
   "metadata": {},
   "outputs": [
    {
     "name": "stdout",
     "output_type": "stream",
     "text": [
      "4\n",
      "0\n"
     ]
    }
   ],
   "source": [
    "a = [2, 2, 1, 2, 3, [2, 3], \"hello\", \"hello\"]\n",
    "c = a.index(3)\n",
    "print(c)\n",
    "c = a.index(2)\n",
    "print(c)"
   ]
  },
  {
   "cell_type": "markdown",
   "metadata": {},
   "source": [
    "    - Phương thức copy: trả về 1 list tương tự list bị copy. Lưu ý: đây là tham chiếu, tức là tạo ra 1 list hoàn toàn mới."
   ]
  },
  {
   "cell_type": "code",
   "execution_count": 6,
   "metadata": {},
   "outputs": [
    {
     "name": "stdout",
     "output_type": "stream",
     "text": [
      "[2, 2, 1, 2, 3, [2, 3], 'hello', 'hello']\n"
     ]
    }
   ],
   "source": [
    "a = [2, 2, 1, 2, 3, [2, 3], \"hello\", \"hello\"]\n",
    "c = a.copy()\n",
    "print(c)"
   ]
  },
  {
   "cell_type": "markdown",
   "metadata": {},
   "source": [
    "    - phương thức clear: xóa toàn bộ các phàn tử của list"
   ]
  },
  {
   "cell_type": "code",
   "execution_count": 10,
   "metadata": {},
   "outputs": [
    {
     "name": "stdout",
     "output_type": "stream",
     "text": [
      "[]\n"
     ]
    }
   ],
   "source": [
    "a = [2, 2, 1, 2, 3, [2, 3], \"hello\", \"hello\"]\n",
    "a.clear()\n",
    "print(a)"
   ]
  },
  {
   "cell_type": "markdown",
   "metadata": {},
   "source": [
    "- Phương thức cập nhật:"
   ]
  },
  {
   "cell_type": "markdown",
   "metadata": {},
   "source": [
    "    - Phương thức append: thêm 1 phần tử vào cuối list, lưu ý chỉ thêm được 1 phần tử mõi lần thực hiên."
   ]
  },
  {
   "cell_type": "code",
   "execution_count": 13,
   "metadata": {},
   "outputs": [
    {
     "name": "stdout",
     "output_type": "stream",
     "text": [
      "[2, 2, 1, 2, 3, [2, 3], 'hello', 'hello', 10]\n"
     ]
    }
   ],
   "source": [
    "a = [2, 2, 1, 2, 3, [2, 3], \"hello\", \"hello\"]\n",
    "a.append(10)\n",
    "print(a)"
   ]
  },
  {
   "cell_type": "markdown",
   "metadata": {},
   "source": [
    "    - Phương thức extend:tương tự như append nhưng thêm được nhìu phần t và phải để trong cặp []."
   ]
  },
  {
   "cell_type": "code",
   "execution_count": 17,
   "metadata": {},
   "outputs": [
    {
     "name": "stdout",
     "output_type": "stream",
     "text": [
      "[2, 2, 1, 2, 3, [2, 3], 'hello', 'hello', 10, 11, 12, ['a', 'b']]\n"
     ]
    }
   ],
   "source": [
    "a = [2, 2, 1, 2, 3, [2, 3], \"hello\", \"hello\"]\n",
    "a.extend([10, 11, 12, [\"a\", \"b\"]])\n",
    "print(a)"
   ]
  },
  {
   "cell_type": "markdown",
   "metadata": {},
   "source": [
    "    - Phương thức insert: cấu trúc : <tên list>.insert(<vị trí thêm>,<giá trị thêm>)\n",
    "                          Nếu vị trí thêm lớn hơn hoặc bằng số lượng phần tử của list thì thêm vào cuối."
   ]
  },
  {
   "cell_type": "code",
   "execution_count": 21,
   "metadata": {},
   "outputs": [
    {
     "name": "stdout",
     "output_type": "stream",
     "text": [
      "[2, 5, 2, 1, 2, 3, [2, 3], 'hello', 'hello']\n",
      "[2, 5, 2, 1, 2, 3, [2, 3], 'hello', 'hello', 100]\n",
      "[2, 5, 2, 1, [5, 10], 2, 3, [2, 3], 'hello', 'hello', 100]\n"
     ]
    }
   ],
   "source": [
    "a = [2, 2, 1, 2, 3, [2, 3], \"hello\", \"hello\"]\n",
    "a.insert(1,5)\n",
    "print(a)\n",
    "a.insert(20,100)\n",
    "print(a)\n",
    "a.insert(4,[5,10])\n",
    "print(a)"
   ]
  },
  {
   "cell_type": "markdown",
   "metadata": {},
   "source": [
    "    - Phương thức pop: lấy ra phần tử tại một vị trí trong list, nếu để rỗng thì sẽ lấy phần tử cuối cùng trong list."
   ]
  },
  {
   "cell_type": "code",
   "execution_count": 23,
   "metadata": {},
   "outputs": [
    {
     "name": "stdout",
     "output_type": "stream",
     "text": [
      "[2, 1, 2, 3, [2, 3], 'hello', 'hello']\n",
      "2\n",
      "[2, 1, 2, 3, [2, 3], 'hello']\n",
      "hello\n"
     ]
    }
   ],
   "source": [
    "a = [2, 2, 1, 2, 3, [2, 3], \"hello\", \"hello\"]\n",
    "c = a.pop(1)\n",
    "print(a)\n",
    "print(c)\n",
    "c = a.pop()\n",
    "print(a)\n",
    "print(c)"
   ]
  },
  {
   "cell_type": "markdown",
   "metadata": {},
   "source": [
    "    - Phương thức remove: xóa đi phần tử đầu tiên được tìm thấy, nếu không tồn tại phần tử đó trong list hoặc để rỗng thì sẽ lỗi."
   ]
  },
  {
   "cell_type": "code",
   "execution_count": 27,
   "metadata": {},
   "outputs": [
    {
     "name": "stdout",
     "output_type": "stream",
     "text": [
      "[2, 1, 2, 3, [2, 3], 'hello', 'hello']\n",
      "[2, 1, 2, [2, 3], 'hello', 'hello']\n"
     ]
    }
   ],
   "source": [
    "a = [2, 2, 1, 2, 3, [2, 3], \"hello\", \"hello\"]\n",
    "a.remove(2)\n",
    "print(a)\n",
    "a.remove(3)\n",
    "print(a)"
   ]
  },
  {
   "cell_type": "markdown",
   "metadata": {},
   "source": [
    "- Phương thức xử lí:"
   ]
  },
  {
   "cell_type": "markdown",
   "metadata": {},
   "source": [
    "    - Phương thức reverse: đảo ngược list đó."
   ]
  },
  {
   "cell_type": "code",
   "execution_count": 32,
   "metadata": {},
   "outputs": [
    {
     "name": "stdout",
     "output_type": "stream",
     "text": [
      "['hello', 'hello', [2, 3], 3, 2, 1, 2, 2]\n"
     ]
    }
   ],
   "source": [
    "a = [2, 2, 1, 2, 3, [2, 3], \"hello\", \"hello\"]\n",
    "a.reverse()\n",
    "print(a)"
   ]
  },
  {
   "cell_type": "markdown",
   "metadata": {},
   "source": [
    "    - Phương thức sort: sắp xếp list, lưu ý các phần tử phải cùng kiểu dữ liệu. "
   ]
  },
  {
   "cell_type": "code",
   "execution_count": 37,
   "metadata": {},
   "outputs": [
    {
     "name": "stdout",
     "output_type": "stream",
     "text": [
      "[1, 2, 2, 2, 3, 5, 9]\n",
      "[9, 5, 3, 2, 2, 2, 1]\n"
     ]
    }
   ],
   "source": [
    "a = [2, 2, 1, 2, 3, 9, 5]\n",
    "a.sort()\n",
    "print(a)\n",
    "a.sort(reverse=True)\n",
    "print(a)"
   ]
  }
 ],
 "metadata": {
  "kernelspec": {
   "display_name": "Python 3",
   "language": "python",
   "name": "python3"
  },
  "language_info": {
   "codemirror_mode": {
    "name": "ipython",
    "version": 3
   },
   "file_extension": ".py",
   "mimetype": "text/x-python",
   "name": "python",
   "nbconvert_exporter": "python",
   "pygments_lexer": "ipython3",
   "version": "3.7.1"
  }
 },
 "nbformat": 4,
 "nbformat_minor": 2
}
